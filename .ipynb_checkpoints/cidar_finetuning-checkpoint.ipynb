{
 "cells": [
  {
   "cell_type": "code",
   "execution_count": 1,
   "id": "4d74a95b-063b-4582-8cd2-4354c5555598",
   "metadata": {},
   "outputs": [
    {
     "name": "stderr",
     "output_type": "stream",
     "text": [
      "Found cached dataset parquet (/home/deema/.cache/huggingface/datasets/arbml___parquet/arbml--alpagasus_cleaned_ar-493077b64f717191/0.0.0/2a3b91fbd88a2c90d1dbbb32b460cf621d31bd5b05b934492fdef7d8d6f236ec)\n"
     ]
    },
    {
     "data": {
      "application/vnd.jupyter.widget-view+json": {
       "model_id": "5e610be0016d4f35a3e9867ea5cbd401",
       "version_major": 2,
       "version_minor": 0
      },
      "text/plain": [
       "  0%|          | 0/1 [00:00<?, ?it/s]"
      ]
     },
     "metadata": {},
     "output_type": "display_data"
    }
   ],
   "source": [
    "from datasets import load_dataset\n",
    "\n",
    "dataset = load_dataset(\"arbml/alpagasus_cleaned_ar\")"
   ]
  },
  {
   "cell_type": "code",
   "execution_count": 6,
   "id": "6df112bf-33b9-4ea4-88e0-c312b371b4d0",
   "metadata": {},
   "outputs": [],
   "source": [
    "dataset = dataset.remove_columns(['instruction_en', 'output_en'])"
   ]
  },
  {
   "cell_type": "code",
   "execution_count": 4,
   "id": "5bb2dfd7-d015-4495-8215-bc84cf4d5a4a",
   "metadata": {},
   "outputs": [
    {
     "name": "stderr",
     "output_type": "stream",
     "text": [
      "Loading cached processed dataset at /home/deema/.cache/huggingface/datasets/arbml___parquet/arbml--alpagasus_cleaned_ar-493077b64f717191/0.0.0/2a3b91fbd88a2c90d1dbbb32b460cf621d31bd5b05b934492fdef7d8d6f236ec/cache-6dc1826000d3f0ef.arrow\n"
     ]
    }
   ],
   "source": [
    "dataset = dataset.map(lambda batch: {'input': [None] * len(batch['index'])}, batched=True)"
   ]
  },
  {
   "cell_type": "code",
   "execution_count": 7,
   "id": "f6dd381a-8cf0-4925-98d5-9791601d64b5",
   "metadata": {},
   "outputs": [
    {
     "data": {
      "text/plain": [
       "DatasetDict({\n",
       "    train: Dataset({\n",
       "        features: ['instruction', 'output', 'index', 'input'],\n",
       "        num_rows: 9229\n",
       "    })\n",
       "})"
      ]
     },
     "execution_count": 7,
     "metadata": {},
     "output_type": "execute_result"
    }
   ],
   "source": [
    "dataset"
   ]
  },
  {
   "cell_type": "code",
   "execution_count": 9,
   "id": "85122eb9-4a23-4ecc-a774-3b1f4ddcb9fc",
   "metadata": {},
   "outputs": [
    {
     "data": {
      "text/plain": [
       "{'instruction': [' أعطني ثلاث نصائح للحفاظ على الصحة.\\n',\n",
       "  ' كيف يمكننا تقليل التلوث الهوائي؟\\n',\n",
       "  ' أنشئ قائمة بالصفات التي تصف الشخص الشجاع.\\n',\n",
       "  ' قدم تفسيرًا للسبب والنتيجة للعبارة التالية. أدى الوباء إلى زيادة كبيرة في التسوق عبر الإنترنت.\\n',\n",
       "  ' ابحث عن عاصمة كندا. أخرج اسم المدينة.\\n'],\n",
       " 'output': [' 1. تناول نظام غذائي متوازن وتأكد من تضمين الكثير من الفواكه والخضروات.\\n2. ممارسة التمارين الرياضية بانتظام للحفاظ على نشاط وقوة الجسم.\\n3. الحصول على قسط كافٍ من النوم والحفاظ على جدول نوم منتظم.',\n",
       "  ' هناك عدة طرق لتقليل التلوث الهوائي، مثل الانتقال إلى مصادر الطاقة المتجددة، وتشجيع استخدام وسائل النقل العام، ومنع حرق الوقود الأحفوري، وتنفيذ سياسات لتقليل الانبعاثات من المصادر الصناعية، وتنفيذ معايير انبعاثات المركبات. بالإضافة إلى ذلك، يمكن للأفراد أن يقوموا بدورهم في تقليل التلوث الهوائي عن طريق تقليل استخدام السيارات، وتجنب حرق المواد مثل الخشب، والتحول إلى أجهزة كهربائية فعالة من حيث استخدام الطاقة.',\n",
       "  ' شجاع، بطل، جريء، قوي، شجاع، حازم، جريء، شجاع، جريء، عنيد، شجاع، قوي القلب، شجاع، شجاع، لا يخشى، شجاع، لا يرتعب، مفعم بالحيوية، مجازف.',\n",
       "  ' تسبب الوباء في إجبار الناس على البقاء في المنزل لتجنب التعرض المحتمل للفيروس، مما أدى إلى زيادة التسوق عبر الإنترنت. مع زيادة عدد الأشخاص الذين يتسوقون عبر الإنترنت، زاد الطلب على المشتريات عبر الإنترنت واستجابت الشركات بتقديم المزيد من الخيارات عبر الإنترنت. ونتيجة لذلك، زادت النشاطات عبر الإنترنت بشكل كبير.',\n",
       "  ' أوتاوا'],\n",
       " 'index': [0, 1, 2, 3, 4],\n",
       " 'input': [None, None, None, None, None]}"
      ]
     },
     "execution_count": 9,
     "metadata": {},
     "output_type": "execute_result"
    }
   ],
   "source": [
    "dataset['train'][:5]"
   ]
  },
  {
   "cell_type": "code",
   "execution_count": null,
   "id": "9c21b3a1-fd90-4d5b-9edc-f789a88e8e91",
   "metadata": {},
   "outputs": [],
   "source": []
  },
  {
   "cell_type": "code",
   "execution_count": 10,
   "id": "87e3a1d4-6f3b-4ced-ae68-e170aafe1a49",
   "metadata": {},
   "outputs": [
    {
     "name": "stdout",
     "output_type": "stream",
     "text": [
      "/home/deema/projects/alpaca-lora\n"
     ]
    }
   ],
   "source": [
    "# --data_path './alpaca_data_1k.json' \n",
    "python finetune.py \\\n",
    "    --base_model 'FreedomIntelligence/AceGPT-7B' \\\n",
    "    --data_path 'yahma/alpaca-cleaned' \\\n",
    "    --output_dir './lora-alpaca'"
   ]
  },
  {
   "cell_type": "code",
   "execution_count": null,
   "id": "06c637e8-9d21-4a35-b66f-ee776896801e",
   "metadata": {},
   "outputs": [],
   "source": []
  }
 ],
 "metadata": {
  "kernelspec": {
   "display_name": "Python [conda env:opence-v1.9.1]",
   "language": "python",
   "name": "conda-env-opence-v1.9.1-py"
  },
  "language_info": {
   "codemirror_mode": {
    "name": "ipython",
    "version": 3
   },
   "file_extension": ".py",
   "mimetype": "text/x-python",
   "name": "python",
   "nbconvert_exporter": "python",
   "pygments_lexer": "ipython3",
   "version": "3.9.18"
  }
 },
 "nbformat": 4,
 "nbformat_minor": 5
}
